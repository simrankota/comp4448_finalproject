{
 "cells": [
  {
   "cell_type": "code",
   "execution_count": 1,
   "metadata": {},
   "outputs": [],
   "source": [
    "import pandas as pd\n",
    "import sweetviz as sv"
   ]
  },
  {
   "cell_type": "code",
   "execution_count": 2,
   "metadata": {},
   "outputs": [
    {
     "data": {
      "text/html": [
       "<div>\n",
       "<style scoped>\n",
       "    .dataframe tbody tr th:only-of-type {\n",
       "        vertical-align: middle;\n",
       "    }\n",
       "\n",
       "    .dataframe tbody tr th {\n",
       "        vertical-align: top;\n",
       "    }\n",
       "\n",
       "    .dataframe thead th {\n",
       "        text-align: right;\n",
       "    }\n",
       "</style>\n",
       "<table border=\"1\" class=\"dataframe\">\n",
       "  <thead>\n",
       "    <tr style=\"text-align: right;\">\n",
       "      <th></th>\n",
       "      <th>datetime</th>\n",
       "      <th>s1_temp</th>\n",
       "      <th>s2_temp</th>\n",
       "      <th>s3_temp</th>\n",
       "      <th>s4_temp</th>\n",
       "      <th>s1_light</th>\n",
       "      <th>s2_light</th>\n",
       "      <th>s3_light</th>\n",
       "      <th>s4_light</th>\n",
       "      <th>s1_sound</th>\n",
       "      <th>s2_sound</th>\n",
       "      <th>s3_sound</th>\n",
       "      <th>s4_sound</th>\n",
       "      <th>s5_co2</th>\n",
       "      <th>s5_co2_slope</th>\n",
       "      <th>s6_pir</th>\n",
       "      <th>s7_pir</th>\n",
       "      <th>room_occupancy_count</th>\n",
       "    </tr>\n",
       "  </thead>\n",
       "  <tbody>\n",
       "    <tr>\n",
       "      <th>0</th>\n",
       "      <td>2017-12-22 10:49:41</td>\n",
       "      <td>24.94</td>\n",
       "      <td>24.75</td>\n",
       "      <td>24.56</td>\n",
       "      <td>25.38</td>\n",
       "      <td>121</td>\n",
       "      <td>34</td>\n",
       "      <td>53</td>\n",
       "      <td>40</td>\n",
       "      <td>0.08</td>\n",
       "      <td>0.19</td>\n",
       "      <td>0.06</td>\n",
       "      <td>0.06</td>\n",
       "      <td>390</td>\n",
       "      <td>0.769231</td>\n",
       "      <td>0</td>\n",
       "      <td>0</td>\n",
       "      <td>1</td>\n",
       "    </tr>\n",
       "    <tr>\n",
       "      <th>1</th>\n",
       "      <td>2017-12-22 10:50:12</td>\n",
       "      <td>24.94</td>\n",
       "      <td>24.75</td>\n",
       "      <td>24.56</td>\n",
       "      <td>25.44</td>\n",
       "      <td>121</td>\n",
       "      <td>33</td>\n",
       "      <td>53</td>\n",
       "      <td>40</td>\n",
       "      <td>0.93</td>\n",
       "      <td>0.05</td>\n",
       "      <td>0.06</td>\n",
       "      <td>0.06</td>\n",
       "      <td>390</td>\n",
       "      <td>0.646154</td>\n",
       "      <td>0</td>\n",
       "      <td>0</td>\n",
       "      <td>1</td>\n",
       "    </tr>\n",
       "    <tr>\n",
       "      <th>2</th>\n",
       "      <td>2017-12-22 10:50:42</td>\n",
       "      <td>25.00</td>\n",
       "      <td>24.75</td>\n",
       "      <td>24.50</td>\n",
       "      <td>25.44</td>\n",
       "      <td>121</td>\n",
       "      <td>34</td>\n",
       "      <td>53</td>\n",
       "      <td>40</td>\n",
       "      <td>0.43</td>\n",
       "      <td>0.11</td>\n",
       "      <td>0.08</td>\n",
       "      <td>0.06</td>\n",
       "      <td>390</td>\n",
       "      <td>0.519231</td>\n",
       "      <td>0</td>\n",
       "      <td>0</td>\n",
       "      <td>1</td>\n",
       "    </tr>\n",
       "    <tr>\n",
       "      <th>3</th>\n",
       "      <td>2017-12-22 10:51:13</td>\n",
       "      <td>25.00</td>\n",
       "      <td>24.75</td>\n",
       "      <td>24.56</td>\n",
       "      <td>25.44</td>\n",
       "      <td>121</td>\n",
       "      <td>34</td>\n",
       "      <td>53</td>\n",
       "      <td>40</td>\n",
       "      <td>0.41</td>\n",
       "      <td>0.10</td>\n",
       "      <td>0.10</td>\n",
       "      <td>0.09</td>\n",
       "      <td>390</td>\n",
       "      <td>0.388462</td>\n",
       "      <td>0</td>\n",
       "      <td>0</td>\n",
       "      <td>1</td>\n",
       "    </tr>\n",
       "    <tr>\n",
       "      <th>4</th>\n",
       "      <td>2017-12-22 10:51:44</td>\n",
       "      <td>25.00</td>\n",
       "      <td>24.75</td>\n",
       "      <td>24.56</td>\n",
       "      <td>25.44</td>\n",
       "      <td>121</td>\n",
       "      <td>34</td>\n",
       "      <td>54</td>\n",
       "      <td>40</td>\n",
       "      <td>0.18</td>\n",
       "      <td>0.06</td>\n",
       "      <td>0.06</td>\n",
       "      <td>0.06</td>\n",
       "      <td>390</td>\n",
       "      <td>0.253846</td>\n",
       "      <td>0</td>\n",
       "      <td>0</td>\n",
       "      <td>1</td>\n",
       "    </tr>\n",
       "  </tbody>\n",
       "</table>\n",
       "</div>"
      ],
      "text/plain": [
       "             datetime  s1_temp  s2_temp  s3_temp  s4_temp  s1_light  s2_light  \\\n",
       "0 2017-12-22 10:49:41    24.94    24.75    24.56    25.38       121        34   \n",
       "1 2017-12-22 10:50:12    24.94    24.75    24.56    25.44       121        33   \n",
       "2 2017-12-22 10:50:42    25.00    24.75    24.50    25.44       121        34   \n",
       "3 2017-12-22 10:51:13    25.00    24.75    24.56    25.44       121        34   \n",
       "4 2017-12-22 10:51:44    25.00    24.75    24.56    25.44       121        34   \n",
       "\n",
       "   s3_light  s4_light  s1_sound  s2_sound  s3_sound  s4_sound  s5_co2  \\\n",
       "0        53        40      0.08      0.19      0.06      0.06     390   \n",
       "1        53        40      0.93      0.05      0.06      0.06     390   \n",
       "2        53        40      0.43      0.11      0.08      0.06     390   \n",
       "3        53        40      0.41      0.10      0.10      0.09     390   \n",
       "4        54        40      0.18      0.06      0.06      0.06     390   \n",
       "\n",
       "   s5_co2_slope  s6_pir  s7_pir  room_occupancy_count  \n",
       "0      0.769231       0       0                     1  \n",
       "1      0.646154       0       0                     1  \n",
       "2      0.519231       0       0                     1  \n",
       "3      0.388462       0       0                     1  \n",
       "4      0.253846       0       0                     1  "
      ]
     },
     "execution_count": 2,
     "metadata": {},
     "output_type": "execute_result"
    }
   ],
   "source": [
    "data = pd.read_csv(\"../Occupancy_Estimation.csv\")\n",
    "data.columns = data.columns.str.strip().str.lower()\n",
    "data.insert(2, \"datetime\", pd.to_datetime(data[\"date\"] + \" \" + data[\"time\"]))\n",
    "data[\"room_occupancy_count\"] = data[\"room_occupancy_count\"].astype(int)\n",
    "data = data.iloc[:, 2:]\n",
    "data.head()"
   ]
  },
  {
   "cell_type": "code",
   "execution_count": 3,
   "metadata": {},
   "outputs": [
    {
     "name": "stdout",
     "output_type": "stream",
     "text": [
      "<class 'pandas.core.frame.DataFrame'>\n",
      "RangeIndex: 10129 entries, 0 to 10128\n",
      "Data columns (total 18 columns):\n",
      " #   Column                Non-Null Count  Dtype         \n",
      "---  ------                --------------  -----         \n",
      " 0   datetime              10129 non-null  datetime64[ns]\n",
      " 1   s1_temp               10129 non-null  float64       \n",
      " 2   s2_temp               10129 non-null  float64       \n",
      " 3   s3_temp               10129 non-null  float64       \n",
      " 4   s4_temp               10129 non-null  float64       \n",
      " 5   s1_light              10129 non-null  int64         \n",
      " 6   s2_light              10129 non-null  int64         \n",
      " 7   s3_light              10129 non-null  int64         \n",
      " 8   s4_light              10129 non-null  int64         \n",
      " 9   s1_sound              10129 non-null  float64       \n",
      " 10  s2_sound              10129 non-null  float64       \n",
      " 11  s3_sound              10129 non-null  float64       \n",
      " 12  s4_sound              10129 non-null  float64       \n",
      " 13  s5_co2                10129 non-null  int64         \n",
      " 14  s5_co2_slope          10129 non-null  float64       \n",
      " 15  s6_pir                10129 non-null  int64         \n",
      " 16  s7_pir                10129 non-null  int64         \n",
      " 17  room_occupancy_count  10129 non-null  int64         \n",
      "dtypes: datetime64[ns](1), float64(9), int64(8)\n",
      "memory usage: 1.4 MB\n"
     ]
    }
   ],
   "source": [
    "data.info()"
   ]
  },
  {
   "cell_type": "code",
   "execution_count": 4,
   "metadata": {},
   "outputs": [
    {
     "name": "stderr",
     "output_type": "stream",
     "text": [
      "Feature: room_occupancy_count (TARGET)       |█         | [ 11%]   00:00 -> (00:01 left)"
     ]
    },
    {
     "ename": "ValueError",
     "evalue": "TARGET values can only be of NUMERICAL or BOOLEAN type for now.\nCATEGORICAL type was detected; if you meant the target to be\nNUMERICAL, use a FeatureConfig(force_num=...) object.",
     "output_type": "error",
     "traceback": [
      "\u001b[0;31m---------------------------------------------------------------------------\u001b[0m",
      "\u001b[0;31mValueError\u001b[0m                                Traceback (most recent call last)",
      "\u001b[0;32m/var/folders/3c/mdbs2nh57lb084xrksjwy50w0000gn/T/ipykernel_10706/1311472783.py\u001b[0m in \u001b[0;36m<module>\u001b[0;34m\u001b[0m\n\u001b[0;32m----> 1\u001b[0;31m \u001b[0msv\u001b[0m\u001b[0;34m.\u001b[0m\u001b[0manalyze\u001b[0m\u001b[0;34m(\u001b[0m\u001b[0mdata\u001b[0m\u001b[0;34m,\u001b[0m \u001b[0mtarget_feat\u001b[0m\u001b[0;34m=\u001b[0m\u001b[0;34m'room_occupancy_count'\u001b[0m\u001b[0;34m)\u001b[0m\u001b[0;34m\u001b[0m\u001b[0;34m\u001b[0m\u001b[0m\n\u001b[0m",
      "\u001b[0;32m~/Documents/GitHub/msds_winter_2022/venv/lib/python3.8/site-packages/sweetviz/sv_public.py\u001b[0m in \u001b[0;36manalyze\u001b[0;34m(source, target_feat, feat_cfg, pairwise_analysis)\u001b[0m\n\u001b[1;32m     10\u001b[0m             \u001b[0mfeat_cfg\u001b[0m\u001b[0;34m:\u001b[0m \u001b[0mFeatureConfig\u001b[0m \u001b[0;34m=\u001b[0m \u001b[0;32mNone\u001b[0m\u001b[0;34m,\u001b[0m\u001b[0;34m\u001b[0m\u001b[0;34m\u001b[0m\u001b[0m\n\u001b[1;32m     11\u001b[0m             pairwise_analysis: str = 'auto'):\n\u001b[0;32m---> 12\u001b[0;31m     report = sweetviz.DataframeReport(source, target_feat, None,\n\u001b[0m\u001b[1;32m     13\u001b[0m                                       pairwise_analysis, feat_cfg)\n\u001b[1;32m     14\u001b[0m     \u001b[0;32mreturn\u001b[0m \u001b[0mreport\u001b[0m\u001b[0;34m\u001b[0m\u001b[0;34m\u001b[0m\u001b[0m\n",
      "\u001b[0;32m~/Documents/GitHub/msds_winter_2022/venv/lib/python3.8/site-packages/sweetviz/dataframe_report.py\u001b[0m in \u001b[0;36m__init__\u001b[0;34m(self, source, target_feature_name, compare, pairwise_analysis, fc)\u001b[0m\n\u001b[1;32m    236\u001b[0m                                              target_type)\n\u001b[1;32m    237\u001b[0m             \u001b[0;32melse\u001b[0m\u001b[0;34m:\u001b[0m\u001b[0;34m\u001b[0m\u001b[0;34m\u001b[0m\u001b[0m\n\u001b[0;32m--> 238\u001b[0;31m                 this_feat = FeatureToProcess(cur_order_index,\n\u001b[0m\u001b[1;32m    239\u001b[0m                                              \u001b[0msource_df\u001b[0m\u001b[0;34m[\u001b[0m\u001b[0mcur_series_name\u001b[0m\u001b[0;34m]\u001b[0m\u001b[0;34m,\u001b[0m\u001b[0;34m\u001b[0m\u001b[0;34m\u001b[0m\u001b[0m\n\u001b[1;32m    240\u001b[0m                                              \u001b[0;32mNone\u001b[0m\u001b[0;34m,\u001b[0m\u001b[0;34m\u001b[0m\u001b[0;34m\u001b[0m\u001b[0m\n",
      "\u001b[0;32m~/Documents/GitHub/msds_winter_2022/venv/lib/python3.8/site-packages/sweetviz/sv_types.py\u001b[0m in \u001b[0;36m__init__\u001b[0;34m(self, order, source, compare, source_target, compare_target, predetermined_type, predetermined_type_target)\u001b[0m\n\u001b[1;32m     75\u001b[0m                                                  FeatureType.TYPE_NUM):\n\u001b[1;32m     76\u001b[0m                 \u001b[0;32mif\u001b[0m \u001b[0mpredetermined_type_target\u001b[0m \u001b[0;34m==\u001b[0m \u001b[0mFeatureType\u001b[0m\u001b[0;34m.\u001b[0m\u001b[0mTYPE_CAT\u001b[0m\u001b[0;34m:\u001b[0m\u001b[0;34m\u001b[0m\u001b[0;34m\u001b[0m\u001b[0m\n\u001b[0;32m---> 77\u001b[0;31m                     raise ValueError(\"TARGET values can only be of NUMERICAL or BOOLEAN type for now.\\n\"\n\u001b[0m\u001b[1;32m     78\u001b[0m                                      \u001b[0;34m\"CATEGORICAL type was detected; if you meant the target to be\\n\"\u001b[0m\u001b[0;34m\u001b[0m\u001b[0;34m\u001b[0m\u001b[0m\n\u001b[1;32m     79\u001b[0m                                      \"NUMERICAL, use a FeatureConfig(force_num=...) object.\")\n",
      "\u001b[0;31mValueError\u001b[0m: TARGET values can only be of NUMERICAL or BOOLEAN type for now.\nCATEGORICAL type was detected; if you meant the target to be\nNUMERICAL, use a FeatureConfig(force_num=...) object."
     ]
    },
    {
     "name": "stderr",
     "output_type": "stream",
     "text": [
      "Feature: room_occupancy_count (TARGET)       |█         | [ 11%]   00:20 -> (00:01 left)"
     ]
    }
   ],
   "source": [
    "sv.analyze(data, target_feat=\"room_occupancy_count\")"
   ]
  },
  {
   "cell_type": "code",
   "execution_count": null,
   "metadata": {},
   "outputs": [],
   "source": []
  }
 ],
 "metadata": {
  "interpreter": {
   "hash": "cf1242fcc38fb95e6e7172c5ae1a7b1efa13ffa52795131b28430b6dfbc2e1c2"
  },
  "kernelspec": {
   "display_name": "Python 3.8.3 ('venv': venv)",
   "language": "python",
   "name": "python3"
  },
  "language_info": {
   "codemirror_mode": {
    "name": "ipython",
    "version": 3
   },
   "file_extension": ".py",
   "mimetype": "text/x-python",
   "name": "python",
   "nbconvert_exporter": "python",
   "pygments_lexer": "ipython3",
   "version": "3.8.3"
  },
  "orig_nbformat": 4
 },
 "nbformat": 4,
 "nbformat_minor": 2
}
