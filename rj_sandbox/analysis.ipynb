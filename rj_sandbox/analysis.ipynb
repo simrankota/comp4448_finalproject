{
 "cells": [
  {
   "cell_type": "code",
   "execution_count": 1,
   "metadata": {},
   "outputs": [],
   "source": [
    "import pandas as pd\n",
    "import numpy as np\n",
    "import matplotlib.pyplot as plt\n",
    "import seaborn as sns\n",
    "from sklearn.preprocessing import StandardScaler\n",
    "from sklearn.model_selection import train_test_split, GridSearchCV\n",
    "from sklearn.linear_model import LinearRegression\n",
    "from sklearn.decomposition import PCA\n",
    "from sklearn.pipeline import Pipeline\n",
    "from sklearn.tree import DecisionTreeClassifier"
   ]
  },
  {
   "cell_type": "markdown",
   "metadata": {},
   "source": [
    "# The Dataset"
   ]
  },
  {
   "cell_type": "markdown",
   "metadata": {},
   "source": [
    "Describe the dataset and the source: https://archive.ics.uci.edu/ml/datasets/Room+Occupancy+Estimation#"
   ]
  },
  {
   "cell_type": "code",
   "execution_count": 2,
   "metadata": {},
   "outputs": [
    {
     "data": {
      "text/html": [
       "<div>\n",
       "<style scoped>\n",
       "    .dataframe tbody tr th:only-of-type {\n",
       "        vertical-align: middle;\n",
       "    }\n",
       "\n",
       "    .dataframe tbody tr th {\n",
       "        vertical-align: top;\n",
       "    }\n",
       "\n",
       "    .dataframe thead th {\n",
       "        text-align: right;\n",
       "    }\n",
       "</style>\n",
       "<table border=\"1\" class=\"dataframe\">\n",
       "  <thead>\n",
       "    <tr style=\"text-align: right;\">\n",
       "      <th></th>\n",
       "      <th>Date</th>\n",
       "      <th>Time</th>\n",
       "      <th>S1_Temp</th>\n",
       "      <th>S2_Temp</th>\n",
       "      <th>S3_Temp</th>\n",
       "      <th>S4_Temp</th>\n",
       "      <th>S1_Light</th>\n",
       "      <th>S2_Light</th>\n",
       "      <th>S3_Light</th>\n",
       "      <th>S4_Light</th>\n",
       "      <th>S1_Sound</th>\n",
       "      <th>S2_Sound</th>\n",
       "      <th>S3_Sound</th>\n",
       "      <th>S4_Sound</th>\n",
       "      <th>S5_CO2</th>\n",
       "      <th>S5_CO2_Slope</th>\n",
       "      <th>S6_PIR</th>\n",
       "      <th>S7_PIR</th>\n",
       "      <th>Room_Occupancy_Count</th>\n",
       "    </tr>\n",
       "  </thead>\n",
       "  <tbody>\n",
       "    <tr>\n",
       "      <th>0</th>\n",
       "      <td>2017/12/22</td>\n",
       "      <td>10:49:41</td>\n",
       "      <td>24.94</td>\n",
       "      <td>24.75</td>\n",
       "      <td>24.56</td>\n",
       "      <td>25.38</td>\n",
       "      <td>121</td>\n",
       "      <td>34</td>\n",
       "      <td>53</td>\n",
       "      <td>40</td>\n",
       "      <td>0.08</td>\n",
       "      <td>0.19</td>\n",
       "      <td>0.06</td>\n",
       "      <td>0.06</td>\n",
       "      <td>390</td>\n",
       "      <td>0.769231</td>\n",
       "      <td>0</td>\n",
       "      <td>0</td>\n",
       "      <td>1</td>\n",
       "    </tr>\n",
       "    <tr>\n",
       "      <th>1</th>\n",
       "      <td>2017/12/22</td>\n",
       "      <td>10:50:12</td>\n",
       "      <td>24.94</td>\n",
       "      <td>24.75</td>\n",
       "      <td>24.56</td>\n",
       "      <td>25.44</td>\n",
       "      <td>121</td>\n",
       "      <td>33</td>\n",
       "      <td>53</td>\n",
       "      <td>40</td>\n",
       "      <td>0.93</td>\n",
       "      <td>0.05</td>\n",
       "      <td>0.06</td>\n",
       "      <td>0.06</td>\n",
       "      <td>390</td>\n",
       "      <td>0.646154</td>\n",
       "      <td>0</td>\n",
       "      <td>0</td>\n",
       "      <td>1</td>\n",
       "    </tr>\n",
       "    <tr>\n",
       "      <th>2</th>\n",
       "      <td>2017/12/22</td>\n",
       "      <td>10:50:42</td>\n",
       "      <td>25.00</td>\n",
       "      <td>24.75</td>\n",
       "      <td>24.50</td>\n",
       "      <td>25.44</td>\n",
       "      <td>121</td>\n",
       "      <td>34</td>\n",
       "      <td>53</td>\n",
       "      <td>40</td>\n",
       "      <td>0.43</td>\n",
       "      <td>0.11</td>\n",
       "      <td>0.08</td>\n",
       "      <td>0.06</td>\n",
       "      <td>390</td>\n",
       "      <td>0.519231</td>\n",
       "      <td>0</td>\n",
       "      <td>0</td>\n",
       "      <td>1</td>\n",
       "    </tr>\n",
       "    <tr>\n",
       "      <th>3</th>\n",
       "      <td>2017/12/22</td>\n",
       "      <td>10:51:13</td>\n",
       "      <td>25.00</td>\n",
       "      <td>24.75</td>\n",
       "      <td>24.56</td>\n",
       "      <td>25.44</td>\n",
       "      <td>121</td>\n",
       "      <td>34</td>\n",
       "      <td>53</td>\n",
       "      <td>40</td>\n",
       "      <td>0.41</td>\n",
       "      <td>0.10</td>\n",
       "      <td>0.10</td>\n",
       "      <td>0.09</td>\n",
       "      <td>390</td>\n",
       "      <td>0.388462</td>\n",
       "      <td>0</td>\n",
       "      <td>0</td>\n",
       "      <td>1</td>\n",
       "    </tr>\n",
       "    <tr>\n",
       "      <th>4</th>\n",
       "      <td>2017/12/22</td>\n",
       "      <td>10:51:44</td>\n",
       "      <td>25.00</td>\n",
       "      <td>24.75</td>\n",
       "      <td>24.56</td>\n",
       "      <td>25.44</td>\n",
       "      <td>121</td>\n",
       "      <td>34</td>\n",
       "      <td>54</td>\n",
       "      <td>40</td>\n",
       "      <td>0.18</td>\n",
       "      <td>0.06</td>\n",
       "      <td>0.06</td>\n",
       "      <td>0.06</td>\n",
       "      <td>390</td>\n",
       "      <td>0.253846</td>\n",
       "      <td>0</td>\n",
       "      <td>0</td>\n",
       "      <td>1</td>\n",
       "    </tr>\n",
       "  </tbody>\n",
       "</table>\n",
       "</div>"
      ],
      "text/plain": [
       "         Date      Time  S1_Temp  S2_Temp  S3_Temp  S4_Temp  S1_Light  \\\n",
       "0  2017/12/22  10:49:41    24.94    24.75    24.56    25.38       121   \n",
       "1  2017/12/22  10:50:12    24.94    24.75    24.56    25.44       121   \n",
       "2  2017/12/22  10:50:42    25.00    24.75    24.50    25.44       121   \n",
       "3  2017/12/22  10:51:13    25.00    24.75    24.56    25.44       121   \n",
       "4  2017/12/22  10:51:44    25.00    24.75    24.56    25.44       121   \n",
       "\n",
       "   S2_Light  S3_Light  S4_Light  S1_Sound  S2_Sound  S3_Sound  S4_Sound  \\\n",
       "0        34        53        40      0.08      0.19      0.06      0.06   \n",
       "1        33        53        40      0.93      0.05      0.06      0.06   \n",
       "2        34        53        40      0.43      0.11      0.08      0.06   \n",
       "3        34        53        40      0.41      0.10      0.10      0.09   \n",
       "4        34        54        40      0.18      0.06      0.06      0.06   \n",
       "\n",
       "   S5_CO2  S5_CO2_Slope  S6_PIR  S7_PIR  Room_Occupancy_Count  \n",
       "0     390      0.769231       0       0                     1  \n",
       "1     390      0.646154       0       0                     1  \n",
       "2     390      0.519231       0       0                     1  \n",
       "3     390      0.388462       0       0                     1  \n",
       "4     390      0.253846       0       0                     1  "
      ]
     },
     "execution_count": 2,
     "metadata": {},
     "output_type": "execute_result"
    }
   ],
   "source": [
    "data = pd.read_csv(\"./Occupancy_Estimation.csv\")\n",
    "data.head()"
   ]
  },
  {
   "cell_type": "code",
   "execution_count": 3,
   "metadata": {},
   "outputs": [
    {
     "data": {
      "text/plain": [
       "(10129, 19)"
      ]
     },
     "execution_count": 3,
     "metadata": {},
     "output_type": "execute_result"
    }
   ],
   "source": [
    "data.shape"
   ]
  },
  {
   "cell_type": "markdown",
   "metadata": {},
   "source": [
    "# Data Cleaning"
   ]
  },
  {
   "cell_type": "code",
   "execution_count": 4,
   "metadata": {},
   "outputs": [
    {
     "data": {
      "text/plain": [
       "Date                    0\n",
       "Time                    0\n",
       "S1_Temp                 0\n",
       "S2_Temp                 0\n",
       "S3_Temp                 0\n",
       "S4_Temp                 0\n",
       "S1_Light                0\n",
       "S2_Light                0\n",
       "S3_Light                0\n",
       "S4_Light                0\n",
       "S1_Sound                0\n",
       "S2_Sound                0\n",
       "S3_Sound                0\n",
       "S4_Sound                0\n",
       "S5_CO2                  0\n",
       "S5_CO2_Slope            0\n",
       "S6_PIR                  0\n",
       "S7_PIR                  0\n",
       "Room_Occupancy_Count    0\n",
       "dtype: int64"
      ]
     },
     "execution_count": 4,
     "metadata": {},
     "output_type": "execute_result"
    }
   ],
   "source": [
    "# let's check for nulls\n",
    "data.isna().sum()"
   ]
  },
  {
   "cell_type": "code",
   "execution_count": 5,
   "metadata": {},
   "outputs": [
    {
     "data": {
      "text/plain": [
       "Date                     object\n",
       "Time                     object\n",
       "S1_Temp                 float64\n",
       "S2_Temp                 float64\n",
       "S3_Temp                 float64\n",
       "S4_Temp                 float64\n",
       "S1_Light                  int64\n",
       "S2_Light                  int64\n",
       "S3_Light                  int64\n",
       "S4_Light                  int64\n",
       "S1_Sound                float64\n",
       "S2_Sound                float64\n",
       "S3_Sound                float64\n",
       "S4_Sound                float64\n",
       "S5_CO2                    int64\n",
       "S5_CO2_Slope            float64\n",
       "S6_PIR                    int64\n",
       "S7_PIR                    int64\n",
       "Room_Occupancy_Count      int64\n",
       "dtype: object"
      ]
     },
     "execution_count": 5,
     "metadata": {},
     "output_type": "execute_result"
    }
   ],
   "source": [
    "# let's check that the columns are appropriately typed\n",
    "data.dtypes"
   ]
  },
  {
   "cell_type": "code",
   "execution_count": 6,
   "metadata": {},
   "outputs": [
    {
     "data": {
      "text/html": [
       "<div>\n",
       "<style scoped>\n",
       "    .dataframe tbody tr th:only-of-type {\n",
       "        vertical-align: middle;\n",
       "    }\n",
       "\n",
       "    .dataframe tbody tr th {\n",
       "        vertical-align: top;\n",
       "    }\n",
       "\n",
       "    .dataframe thead th {\n",
       "        text-align: right;\n",
       "    }\n",
       "</style>\n",
       "<table border=\"1\" class=\"dataframe\">\n",
       "  <thead>\n",
       "    <tr style=\"text-align: right;\">\n",
       "      <th></th>\n",
       "      <th>datetime</th>\n",
       "      <th>S1_Temp</th>\n",
       "      <th>S2_Temp</th>\n",
       "      <th>S3_Temp</th>\n",
       "      <th>S4_Temp</th>\n",
       "      <th>S1_Light</th>\n",
       "      <th>S2_Light</th>\n",
       "      <th>S3_Light</th>\n",
       "      <th>S4_Light</th>\n",
       "      <th>S1_Sound</th>\n",
       "      <th>S2_Sound</th>\n",
       "      <th>S3_Sound</th>\n",
       "      <th>S4_Sound</th>\n",
       "      <th>S5_CO2</th>\n",
       "      <th>S5_CO2_Slope</th>\n",
       "      <th>S6_PIR</th>\n",
       "      <th>S7_PIR</th>\n",
       "      <th>Room_Occupancy_Count</th>\n",
       "    </tr>\n",
       "  </thead>\n",
       "  <tbody>\n",
       "    <tr>\n",
       "      <th>0</th>\n",
       "      <td>2017-12-22 10:49:41</td>\n",
       "      <td>24.94</td>\n",
       "      <td>24.75</td>\n",
       "      <td>24.56</td>\n",
       "      <td>25.38</td>\n",
       "      <td>121</td>\n",
       "      <td>34</td>\n",
       "      <td>53</td>\n",
       "      <td>40</td>\n",
       "      <td>0.08</td>\n",
       "      <td>0.19</td>\n",
       "      <td>0.06</td>\n",
       "      <td>0.06</td>\n",
       "      <td>390</td>\n",
       "      <td>0.769231</td>\n",
       "      <td>0</td>\n",
       "      <td>0</td>\n",
       "      <td>1</td>\n",
       "    </tr>\n",
       "    <tr>\n",
       "      <th>1</th>\n",
       "      <td>2017-12-22 10:50:12</td>\n",
       "      <td>24.94</td>\n",
       "      <td>24.75</td>\n",
       "      <td>24.56</td>\n",
       "      <td>25.44</td>\n",
       "      <td>121</td>\n",
       "      <td>33</td>\n",
       "      <td>53</td>\n",
       "      <td>40</td>\n",
       "      <td>0.93</td>\n",
       "      <td>0.05</td>\n",
       "      <td>0.06</td>\n",
       "      <td>0.06</td>\n",
       "      <td>390</td>\n",
       "      <td>0.646154</td>\n",
       "      <td>0</td>\n",
       "      <td>0</td>\n",
       "      <td>1</td>\n",
       "    </tr>\n",
       "    <tr>\n",
       "      <th>2</th>\n",
       "      <td>2017-12-22 10:50:42</td>\n",
       "      <td>25.00</td>\n",
       "      <td>24.75</td>\n",
       "      <td>24.50</td>\n",
       "      <td>25.44</td>\n",
       "      <td>121</td>\n",
       "      <td>34</td>\n",
       "      <td>53</td>\n",
       "      <td>40</td>\n",
       "      <td>0.43</td>\n",
       "      <td>0.11</td>\n",
       "      <td>0.08</td>\n",
       "      <td>0.06</td>\n",
       "      <td>390</td>\n",
       "      <td>0.519231</td>\n",
       "      <td>0</td>\n",
       "      <td>0</td>\n",
       "      <td>1</td>\n",
       "    </tr>\n",
       "    <tr>\n",
       "      <th>3</th>\n",
       "      <td>2017-12-22 10:51:13</td>\n",
       "      <td>25.00</td>\n",
       "      <td>24.75</td>\n",
       "      <td>24.56</td>\n",
       "      <td>25.44</td>\n",
       "      <td>121</td>\n",
       "      <td>34</td>\n",
       "      <td>53</td>\n",
       "      <td>40</td>\n",
       "      <td>0.41</td>\n",
       "      <td>0.10</td>\n",
       "      <td>0.10</td>\n",
       "      <td>0.09</td>\n",
       "      <td>390</td>\n",
       "      <td>0.388462</td>\n",
       "      <td>0</td>\n",
       "      <td>0</td>\n",
       "      <td>1</td>\n",
       "    </tr>\n",
       "    <tr>\n",
       "      <th>4</th>\n",
       "      <td>2017-12-22 10:51:44</td>\n",
       "      <td>25.00</td>\n",
       "      <td>24.75</td>\n",
       "      <td>24.56</td>\n",
       "      <td>25.44</td>\n",
       "      <td>121</td>\n",
       "      <td>34</td>\n",
       "      <td>54</td>\n",
       "      <td>40</td>\n",
       "      <td>0.18</td>\n",
       "      <td>0.06</td>\n",
       "      <td>0.06</td>\n",
       "      <td>0.06</td>\n",
       "      <td>390</td>\n",
       "      <td>0.253846</td>\n",
       "      <td>0</td>\n",
       "      <td>0</td>\n",
       "      <td>1</td>\n",
       "    </tr>\n",
       "  </tbody>\n",
       "</table>\n",
       "</div>"
      ],
      "text/plain": [
       "             datetime  S1_Temp  S2_Temp  S3_Temp  S4_Temp  S1_Light  S2_Light  \\\n",
       "0 2017-12-22 10:49:41    24.94    24.75    24.56    25.38       121        34   \n",
       "1 2017-12-22 10:50:12    24.94    24.75    24.56    25.44       121        33   \n",
       "2 2017-12-22 10:50:42    25.00    24.75    24.50    25.44       121        34   \n",
       "3 2017-12-22 10:51:13    25.00    24.75    24.56    25.44       121        34   \n",
       "4 2017-12-22 10:51:44    25.00    24.75    24.56    25.44       121        34   \n",
       "\n",
       "   S3_Light  S4_Light  S1_Sound  S2_Sound  S3_Sound  S4_Sound  S5_CO2  \\\n",
       "0        53        40      0.08      0.19      0.06      0.06     390   \n",
       "1        53        40      0.93      0.05      0.06      0.06     390   \n",
       "2        53        40      0.43      0.11      0.08      0.06     390   \n",
       "3        53        40      0.41      0.10      0.10      0.09     390   \n",
       "4        54        40      0.18      0.06      0.06      0.06     390   \n",
       "\n",
       "   S5_CO2_Slope  S6_PIR  S7_PIR  Room_Occupancy_Count  \n",
       "0      0.769231       0       0                     1  \n",
       "1      0.646154       0       0                     1  \n",
       "2      0.519231       0       0                     1  \n",
       "3      0.388462       0       0                     1  \n",
       "4      0.253846       0       0                     1  "
      ]
     },
     "execution_count": 6,
     "metadata": {},
     "output_type": "execute_result"
    }
   ],
   "source": [
    "# convert date and time fields to pandas datetime object\n",
    "data.insert(2, \"datetime\", pd.to_datetime(data[\"Date\"] + \" \" + data[\"Time\"]))\n",
    "data = data.iloc[:, 2:]\n",
    "data.head()"
   ]
  },
  {
   "cell_type": "code",
   "execution_count": 7,
   "metadata": {},
   "outputs": [
    {
     "data": {
      "text/plain": [
       "datetime                datetime64[ns]\n",
       "S1_Temp                        float64\n",
       "S2_Temp                        float64\n",
       "S3_Temp                        float64\n",
       "S4_Temp                        float64\n",
       "S1_Light                         int64\n",
       "S2_Light                         int64\n",
       "S3_Light                         int64\n",
       "S4_Light                         int64\n",
       "S1_Sound                       float64\n",
       "S2_Sound                       float64\n",
       "S3_Sound                       float64\n",
       "S4_Sound                       float64\n",
       "S5_CO2                           int64\n",
       "S5_CO2_Slope                   float64\n",
       "S6_PIR                           int64\n",
       "S7_PIR                           int64\n",
       "Room_Occupancy_Count             int64\n",
       "dtype: object"
      ]
     },
     "execution_count": 7,
     "metadata": {},
     "output_type": "execute_result"
    }
   ],
   "source": [
    "data.dtypes"
   ]
  },
  {
   "cell_type": "markdown",
   "metadata": {},
   "source": [
    "# Data Exploration"
   ]
  },
  {
   "cell_type": "code",
   "execution_count": 8,
   "metadata": {},
   "outputs": [
    {
     "data": {
      "text/html": [
       "<div>\n",
       "<style scoped>\n",
       "    .dataframe tbody tr th:only-of-type {\n",
       "        vertical-align: middle;\n",
       "    }\n",
       "\n",
       "    .dataframe tbody tr th {\n",
       "        vertical-align: top;\n",
       "    }\n",
       "\n",
       "    .dataframe thead th {\n",
       "        text-align: right;\n",
       "    }\n",
       "</style>\n",
       "<table border=\"1\" class=\"dataframe\">\n",
       "  <thead>\n",
       "    <tr style=\"text-align: right;\">\n",
       "      <th></th>\n",
       "      <th>datetime</th>\n",
       "      <th>S1_Temp</th>\n",
       "      <th>S2_Temp</th>\n",
       "      <th>S3_Temp</th>\n",
       "      <th>S4_Temp</th>\n",
       "      <th>S1_Light</th>\n",
       "      <th>S2_Light</th>\n",
       "      <th>S3_Light</th>\n",
       "      <th>S4_Light</th>\n",
       "      <th>S1_Sound</th>\n",
       "      <th>S2_Sound</th>\n",
       "      <th>S3_Sound</th>\n",
       "      <th>S4_Sound</th>\n",
       "      <th>S5_CO2</th>\n",
       "      <th>S5_CO2_Slope</th>\n",
       "      <th>S6_PIR</th>\n",
       "      <th>S7_PIR</th>\n",
       "      <th>Room_Occupancy_Count</th>\n",
       "    </tr>\n",
       "  </thead>\n",
       "  <tbody>\n",
       "    <tr>\n",
       "      <th>mean</th>\n",
       "      <td>2017-12-27 20:27:23.034554112</td>\n",
       "      <td>25.454012</td>\n",
       "      <td>25.546059</td>\n",
       "      <td>25.056621</td>\n",
       "      <td>25.754125</td>\n",
       "      <td>25.445059</td>\n",
       "      <td>26.01629</td>\n",
       "      <td>34.248494</td>\n",
       "      <td>13.220259</td>\n",
       "      <td>0.168178</td>\n",
       "      <td>0.120066</td>\n",
       "      <td>0.158119</td>\n",
       "      <td>0.103840</td>\n",
       "      <td>460.860401</td>\n",
       "      <td>-0.004830</td>\n",
       "      <td>0.090137</td>\n",
       "      <td>0.079574</td>\n",
       "      <td>0.398559</td>\n",
       "    </tr>\n",
       "    <tr>\n",
       "      <th>std</th>\n",
       "      <td>7 days 05:02:05.971942454</td>\n",
       "      <td>0.351351</td>\n",
       "      <td>0.586325</td>\n",
       "      <td>0.427283</td>\n",
       "      <td>0.356434</td>\n",
       "      <td>51.011264</td>\n",
       "      <td>67.30417</td>\n",
       "      <td>58.400744</td>\n",
       "      <td>19.602219</td>\n",
       "      <td>0.316709</td>\n",
       "      <td>0.266503</td>\n",
       "      <td>0.413637</td>\n",
       "      <td>0.120683</td>\n",
       "      <td>199.964940</td>\n",
       "      <td>1.164990</td>\n",
       "      <td>0.286392</td>\n",
       "      <td>0.270645</td>\n",
       "      <td>0.893633</td>\n",
       "    </tr>\n",
       "    <tr>\n",
       "      <th>min</th>\n",
       "      <td>2017-12-22 10:49:41</td>\n",
       "      <td>24.940000</td>\n",
       "      <td>24.750000</td>\n",
       "      <td>24.440000</td>\n",
       "      <td>24.940000</td>\n",
       "      <td>0.000000</td>\n",
       "      <td>0.00000</td>\n",
       "      <td>0.000000</td>\n",
       "      <td>0.000000</td>\n",
       "      <td>0.060000</td>\n",
       "      <td>0.040000</td>\n",
       "      <td>0.040000</td>\n",
       "      <td>0.050000</td>\n",
       "      <td>345.000000</td>\n",
       "      <td>-6.296154</td>\n",
       "      <td>0.000000</td>\n",
       "      <td>0.000000</td>\n",
       "      <td>0.000000</td>\n",
       "    </tr>\n",
       "    <tr>\n",
       "      <th>max</th>\n",
       "      <td>2018-01-11 09:00:09</td>\n",
       "      <td>26.380000</td>\n",
       "      <td>29.000000</td>\n",
       "      <td>26.190000</td>\n",
       "      <td>26.560000</td>\n",
       "      <td>165.000000</td>\n",
       "      <td>258.00000</td>\n",
       "      <td>280.000000</td>\n",
       "      <td>74.000000</td>\n",
       "      <td>3.880000</td>\n",
       "      <td>3.440000</td>\n",
       "      <td>3.670000</td>\n",
       "      <td>3.400000</td>\n",
       "      <td>1270.000000</td>\n",
       "      <td>8.980769</td>\n",
       "      <td>1.000000</td>\n",
       "      <td>1.000000</td>\n",
       "      <td>3.000000</td>\n",
       "    </tr>\n",
       "  </tbody>\n",
       "</table>\n",
       "</div>"
      ],
      "text/plain": [
       "                           datetime    S1_Temp    S2_Temp    S3_Temp  \\\n",
       "mean  2017-12-27 20:27:23.034554112  25.454012  25.546059  25.056621   \n",
       "std       7 days 05:02:05.971942454   0.351351   0.586325   0.427283   \n",
       "min             2017-12-22 10:49:41  24.940000  24.750000  24.440000   \n",
       "max             2018-01-11 09:00:09  26.380000  29.000000  26.190000   \n",
       "\n",
       "        S4_Temp    S1_Light   S2_Light    S3_Light   S4_Light  S1_Sound  \\\n",
       "mean  25.754125   25.445059   26.01629   34.248494  13.220259  0.168178   \n",
       "std    0.356434   51.011264   67.30417   58.400744  19.602219  0.316709   \n",
       "min   24.940000    0.000000    0.00000    0.000000   0.000000  0.060000   \n",
       "max   26.560000  165.000000  258.00000  280.000000  74.000000  3.880000   \n",
       "\n",
       "      S2_Sound  S3_Sound  S4_Sound       S5_CO2  S5_CO2_Slope    S6_PIR  \\\n",
       "mean  0.120066  0.158119  0.103840   460.860401     -0.004830  0.090137   \n",
       "std   0.266503  0.413637  0.120683   199.964940      1.164990  0.286392   \n",
       "min   0.040000  0.040000  0.050000   345.000000     -6.296154  0.000000   \n",
       "max   3.440000  3.670000  3.400000  1270.000000      8.980769  1.000000   \n",
       "\n",
       "        S7_PIR  Room_Occupancy_Count  \n",
       "mean  0.079574              0.398559  \n",
       "std   0.270645              0.893633  \n",
       "min   0.000000              0.000000  \n",
       "max   1.000000              3.000000  "
      ]
     },
     "execution_count": 8,
     "metadata": {},
     "output_type": "execute_result"
    }
   ],
   "source": [
    "data.apply([np.mean, np.std, min, max])"
   ]
  },
  {
   "cell_type": "code",
   "execution_count": 9,
   "metadata": {},
   "outputs": [
    {
     "name": "stderr",
     "output_type": "stream",
     "text": [
      "/Users/i513604/Desktop/Personal/MSDS/22-Winter/COMP_4448_Tools_2/tools2_env/lib/python3.8/site-packages/seaborn/_decorators.py:36: FutureWarning: Pass the following variable as a keyword arg: x. From version 0.12, the only valid positional argument will be `data`, and passing other arguments without an explicit keyword will result in an error or misinterpretation.\n",
      "  warnings.warn(\n"
     ]
    },
    {
     "data": {
      "image/png": "[encoded data removed]",
      "text/plain": [
       "<Figure size 432x288 with 1 Axes>"
      ]
     },
     "metadata": {
      "needs_background": "light"
     },
     "output_type": "display_data"
    },
    {
     "name": "stderr",
     "output_type": "stream",
     "text": [
      "/Users/i513604/Desktop/Personal/MSDS/22-Winter/COMP_4448_Tools_2/tools2_env/lib/python3.8/site-packages/seaborn/_decorators.py:36: FutureWarning: Pass the following variable as a keyword arg: x. From version 0.12, the only valid positional argument will be `data`, and passing other arguments without an explicit keyword will result in an error or misinterpretation.\n",
      "  warnings.warn(\n"
     ]
    },
    {
     "data": {
      "image/png": "[encoded data removed]",
      "text/plain": [
       "<Figure size 432x288 with 1 Axes>"
      ]
     },
     "metadata": {
      "needs_background": "light"
     },
     "output_type": "display_data"
    },
    {
     "name": "stderr",
     "output_type": "stream",
     "text": [
      "/Users/i513604/Desktop/Personal/MSDS/22-Winter/COMP_4448_Tools_2/tools2_env/lib/python3.8/site-packages/seaborn/_decorators.py:36: FutureWarning: Pass the following variable as a keyword arg: x. From version 0.12, the only valid positional argument will be `data`, and passing other arguments without an explicit keyword will result in an error or misinterpretation.\n",
      "  warnings.warn(\n"
     ]
    },
    {
     "data": {
      "image/png": "[encoded data removed]",
      "text/plain": [
       "<Figure size 432x288 with 1 Axes>"
      ]
     },
     "metadata": {
      "needs_background": "light"
     },
     "output_type": "display_data"
    },
    {
     "name": "stderr",
     "output_type": "stream",
     "text": [
      "/Users/i513604/Desktop/Personal/MSDS/22-Winter/COMP_4448_Tools_2/tools2_env/lib/python3.8/site-packages/seaborn/_decorators.py:36: FutureWarning: Pass the following variable as a keyword arg: x. From version 0.12, the only valid positional argument will be `data`, and passing other arguments without an explicit keyword will result in an error or misinterpretation.\n",
      "  warnings.warn(\n"
     ]
    },
    {
     "data": {
      "image/png": "[encoded data removed]",
      "text/plain": [
       "<Figure size 432x288 with 1 Axes>"
      ]
     },
     "metadata": {
      "needs_background": "light"
     },
     "output_type": "display_data"
    },
    {
     "name": "stderr",
     "output_type": "stream",
     "text": [
      "/Users/i513604/Desktop/Personal/MSDS/22-Winter/COMP_4448_Tools_2/tools2_env/lib/python3.8/site-packages/seaborn/_decorators.py:36: FutureWarning: Pass the following variable as a keyword arg: x. From version 0.12, the only valid positional argument will be `data`, and passing other arguments without an explicit keyword will result in an error or misinterpretation.\n",
      "  warnings.warn(\n"
     ]
    },
    {
     "data": {
      "image/png": "[encoded data removed]",
      "text/plain": [
       "<Figure size 432x288 with 1 Axes>"
      ]
     },
     "metadata": {
      "needs_background": "light"
     },
     "output_type": "display_data"
    },
    {
     "name": "stderr",
     "output_type": "stream",
     "text": [
      "/Users/i513604/Desktop/Personal/MSDS/22-Winter/COMP_4448_Tools_2/tools2_env/lib/python3.8/site-packages/seaborn/_decorators.py:36: FutureWarning: Pass the following variable as a keyword arg: x. From version 0.12, the only valid positional argument will be `data`, and passing other arguments without an explicit keyword will result in an error or misinterpretation.\n",
      "  warnings.warn(\n"
     ]
    },
    {
     "data": {
      "image/png": "[encoded data removed]",
      "text/plain": [
       "<Figure size 432x288 with 1 Axes>"
      ]
     },
     "metadata": {
      "needs_background": "light"
     },
     "output_type": "display_data"
    },
    {
     "name": "stderr",
     "output_type": "stream",
     "text": [
      "/Users/i513604/Desktop/Personal/MSDS/22-Winter/COMP_4448_Tools_2/tools2_env/lib/python3.8/site-packages/seaborn/_decorators.py:36: FutureWarning: Pass the following variable as a keyword arg: x. From version 0.12, the only valid positional argument will be `data`, and passing other arguments without an explicit keyword will result in an error or misinterpretation.\n",
      "  warnings.warn(\n"
     ]
    },
    {
     "data": {
      "image/png": "[encoded data removed]",
      "text/plain": [
       "<Figure size 432x288 with 1 Axes>"
      ]
     },
     "metadata": {
      "needs_background": "light"
     },
     "output_type": "display_data"
    },
    {
     "name": "stderr",
     "output_type": "stream",
     "text": [
      "/Users/i513604/Desktop/Personal/MSDS/22-Winter/COMP_4448_Tools_2/tools2_env/lib/python3.8/site-packages/seaborn/_decorators.py:36: FutureWarning: Pass the following variable as a keyword arg: x. From version 0.12, the only valid positional argument will be `data`, and passing other arguments without an explicit keyword will result in an error or misinterpretation.\n",
      "  warnings.warn(\n"
     ]
    },
    {
     "data": {
      "image/png": "[encoded data removed]",
      "text/plain": [
       "<Figure size 432x288 with 1 Axes>"
      ]
     },
     "metadata": {
      "needs_background": "light"
     },
     "output_type": "display_data"
    },
    {
     "name": "stderr",
     "output_type": "stream",
     "text": [
      "/Users/i513604/Desktop/Personal/MSDS/22-Winter/COMP_4448_Tools_2/tools2_env/lib/python3.8/site-packages/seaborn/_decorators.py:36: FutureWarning: Pass the following variable as a keyword arg: x. From version 0.12, the only valid positional argument will be `data`, and passing other arguments without an explicit keyword will result in an error or misinterpretation.\n",
      "  warnings.warn(\n"
     ]
    },
    {
     "data": {
      "image/png": "[encoded data removed]",
      "text/plain": [
       "<Figure size 432x288 with 1 Axes>"
      ]
     },
     "metadata": {
      "needs_background": "light"
     },
     "output_type": "display_data"
    },
    {
     "name": "stderr",
     "output_type": "stream",
     "text": [
      "/Users/i513604/Desktop/Personal/MSDS/22-Winter/COMP_4448_Tools_2/tools2_env/lib/python3.8/site-packages/seaborn/_decorators.py:36: FutureWarning: Pass the following variable as a keyword arg: x. From version 0.12, the only valid positional argument will be `data`, and passing other arguments without an explicit keyword will result in an error or misinterpretation.\n",
      "  warnings.warn(\n"
     ]
    },
    {
     "data": {
      "image/png": "[encoded data removed]",
      "text/plain": [
       "<Figure size 432x288 with 1 Axes>"
      ]
     },
     "metadata": {
      "needs_background": "light"
     },
     "output_type": "display_data"
    },
    {
     "name": "stderr",
     "output_type": "stream",
     "text": [
      "/Users/i513604/Desktop/Personal/MSDS/22-Winter/COMP_4448_Tools_2/tools2_env/lib/python3.8/site-packages/seaborn/_decorators.py:36: FutureWarning: Pass the following variable as a keyword arg: x. From version 0.12, the only valid positional argument will be `data`, and passing other arguments without an explicit keyword will result in an error or misinterpretation.\n",
      "  warnings.warn(\n"
     ]
    },
    {
     "data": {
      "image/png": "[encoded data removed]",
      "text/plain": [
       "<Figure size 432x288 with 1 Axes>"
      ]
     },
     "metadata": {
      "needs_background": "light"
     },
     "output_type": "display_data"
    },
    {
     "name": "stderr",
     "output_type": "stream",
     "text": [
      "/Users/i513604/Desktop/Personal/MSDS/22-Winter/COMP_4448_Tools_2/tools2_env/lib/python3.8/site-packages/seaborn/_decorators.py:36: FutureWarning: Pass the following variable as a keyword arg: x. From version 0.12, the only valid positional argument will be `data`, and passing other arguments without an explicit keyword will result in an error or misinterpretation.\n",
      "  warnings.warn(\n"
     ]
    },
    {
     "data": {
      "image/png": "[encoded data removed]",
      "text/plain": [
       "<Figure size 432x288 with 1 Axes>"
      ]
     },
     "metadata": {
      "needs_background": "light"
     },
     "output_type": "display_data"
    },
    {
     "name": "stderr",
     "output_type": "stream",
     "text": [
      "/Users/i513604/Desktop/Personal/MSDS/22-Winter/COMP_4448_Tools_2/tools2_env/lib/python3.8/site-packages/seaborn/_decorators.py:36: FutureWarning: Pass the following variable as a keyword arg: x. From version 0.12, the only valid positional argument will be `data`, and passing other arguments without an explicit keyword will result in an error or misinterpretation.\n",
      "  warnings.warn(\n"
     ]
    },
    {
     "data": {
      "image/png": "[encoded data removed]",
      "text/plain": [
       "<Figure size 432x288 with 1 Axes>"
      ]
     },
     "metadata": {
      "needs_background": "light"
     },
     "output_type": "display_data"
    },
    {
     "name": "stderr",
     "output_type": "stream",
     "text": [
      "/Users/i513604/Desktop/Personal/MSDS/22-Winter/COMP_4448_Tools_2/tools2_env/lib/python3.8/site-packages/seaborn/_decorators.py:36: FutureWarning: Pass the following variable as a keyword arg: x. From version 0.12, the only valid positional argument will be `data`, and passing other arguments without an explicit keyword will result in an error or misinterpretation.\n",
      "  warnings.warn(\n"
     ]
    },
    {
     "data": {
      "image/png": "[encoded data removed]",
      "text/plain": [
       "<Figure size 432x288 with 1 Axes>"
      ]
     },
     "metadata": {
      "needs_background": "light"
     },
     "output_type": "display_data"
    },
    {
     "name": "stderr",
     "output_type": "stream",
     "text": [
      "/Users/i513604/Desktop/Personal/MSDS/22-Winter/COMP_4448_Tools_2/tools2_env/lib/python3.8/site-packages/seaborn/_decorators.py:36: FutureWarning: Pass the following variable as a keyword arg: x. From version 0.12, the only valid positional argument will be `data`, and passing other arguments without an explicit keyword will result in an error or misinterpretation.\n",
      "  warnings.warn(\n"
     ]
    },
    {
     "data": {
      "image/png": "[encoded data removed]",
      "text/plain": [
       "<Figure size 432x288 with 1 Axes>"
      ]
     },
     "metadata": {
      "needs_background": "light"
     },
     "output_type": "display_data"
    },
    {
     "name": "stderr",
     "output_type": "stream",
     "text": [
      "/Users/i513604/Desktop/Personal/MSDS/22-Winter/COMP_4448_Tools_2/tools2_env/lib/python3.8/site-packages/seaborn/_decorators.py:36: FutureWarning: Pass the following variable as a keyword arg: x. From version 0.12, the only valid positional argument will be `data`, and passing other arguments without an explicit keyword will result in an error or misinterpretation.\n",
      "  warnings.warn(\n"
     ]
    },
    {
     "data": {
      "image/png": "[encoded data removed]",
      "text/plain": [
       "<Figure size 432x288 with 1 Axes>"
      ]
     },
     "metadata": {
      "needs_background": "light"
     },
     "output_type": "display_data"
    },
    {
     "name": "stderr",
     "output_type": "stream",
     "text": [
      "/Users/i513604/Desktop/Personal/MSDS/22-Winter/COMP_4448_Tools_2/tools2_env/lib/python3.8/site-packages/seaborn/_decorators.py:36: FutureWarning: Pass the following variable as a keyword arg: x. From version 0.12, the only valid positional argument will be `data`, and passing other arguments without an explicit keyword will result in an error or misinterpretation.\n",
      "  warnings.warn(\n"
     ]
    },
    {
     "data": {
      "image/png": "[encoded data removed]",
      "text/plain": [
       "<Figure size 432x288 with 1 Axes>"
      ]
     },
     "metadata": {
      "needs_background": "light"
     },
     "output_type": "display_data"
    }
   ],
   "source": [
    "for i in data.columns[1:]:\n",
    "    sns.boxplot(data[i])\n",
    "    plt.show()"
   ]
  },
  {
   "cell_type": "code",
   "execution_count": 10,
   "metadata": {},
   "outputs": [
    {
     "name": "stdout",
     "output_type": "stream",
     "text": [
      "0.07    3833\n",
      "0.08    3501\n",
      "0.06     779\n",
      "0.09     244\n",
      "0.10      92\n",
      "        ... \n",
      "2.79       1\n",
      "2.49       1\n",
      "3.51       1\n",
      "2.59       1\n",
      "3.16       1\n",
      "Name: S1_Sound, Length: 231, dtype: int64\n",
      "0.05    5809\n",
      "0.04    1426\n",
      "0.06    1047\n",
      "0.07     144\n",
      "0.08      89\n",
      "        ... \n",
      "2.12       1\n",
      "1.78       1\n",
      "3.13       1\n",
      "2.25       1\n",
      "2.54       1\n",
      "Name: S2_Sound, Length: 185, dtype: int64\n",
      "0.06    5499\n",
      "0.05    1398\n",
      "0.07    1380\n",
      "0.08     181\n",
      "0.09      97\n",
      "        ... \n",
      "2.92       1\n",
      "1.24       1\n",
      "2.34       1\n",
      "0.79       1\n",
      "2.24       1\n",
      "Name: S3_Sound, Length: 258, dtype: int64\n",
      "0.06    2878\n",
      "0.10    1914\n",
      "0.09    1663\n",
      "0.08     991\n",
      "0.07     869\n",
      "        ... \n",
      "1.36       1\n",
      "1.35       1\n",
      "1.84       1\n",
      "0.87       1\n",
      "1.80       1\n",
      "Name: S4_Sound, Length: 106, dtype: int64\n",
      "355     2550\n",
      "360     1391\n",
      "345     1179\n",
      "350      714\n",
      "365      438\n",
      "        ... \n",
      "1235       1\n",
      "1090       1\n",
      "1145       1\n",
      "1130       1\n",
      "1260       1\n",
      "Name: S5_CO2, Length: 186, dtype: int64\n",
      " 0.000000    4495\n",
      "-0.046154      84\n",
      "-0.042308      63\n",
      "-0.034615      53\n",
      "-0.030769      52\n",
      "             ... \n",
      " 5.076923       1\n",
      " 4.873077       1\n",
      " 4.573077       1\n",
      " 4.323077       1\n",
      "-0.319231       1\n",
      "Name: S5_CO2_Slope, Length: 1579, dtype: int64\n",
      "0    9216\n",
      "1     913\n",
      "Name: S6_PIR, dtype: int64\n",
      "0    9323\n",
      "1     806\n",
      "Name: S7_PIR, dtype: int64\n",
      "0    8228\n",
      "2     748\n",
      "3     694\n",
      "1     459\n",
      "Name: Room_Occupancy_Count, dtype: int64\n"
     ]
    }
   ],
   "source": [
    "for i in data.columns[9:]:\n",
    "    print(data[i].value_counts())"
   ]
  },
  {
   "cell_type": "markdown",
   "metadata": {},
   "source": [
    "# Research Question"
   ]
  },
  {
   "cell_type": "markdown",
   "metadata": {},
   "source": [
    "How does PCA affect the accuracy of various regression models when predicting the occupancy of a room?"
   ]
  },
  {
   "cell_type": "markdown",
   "metadata": {},
   "source": [
    "# Data Preprocessing"
   ]
  },
  {
   "cell_type": "code",
   "execution_count": 11,
   "metadata": {},
   "outputs": [
    {
     "data": {
      "text/html": [
       "<div>\n",
       "<style scoped>\n",
       "    .dataframe tbody tr th:only-of-type {\n",
       "        vertical-align: middle;\n",
       "    }\n",
       "\n",
       "    .dataframe tbody tr th {\n",
       "        vertical-align: top;\n",
       "    }\n",
       "\n",
       "    .dataframe thead th {\n",
       "        text-align: right;\n",
       "    }\n",
       "</style>\n",
       "<table border=\"1\" class=\"dataframe\">\n",
       "  <thead>\n",
       "    <tr style=\"text-align: right;\">\n",
       "      <th></th>\n",
       "      <th>datetime</th>\n",
       "      <th>S1_Temp</th>\n",
       "      <th>S2_Temp</th>\n",
       "      <th>S3_Temp</th>\n",
       "      <th>S4_Temp</th>\n",
       "      <th>S1_Light</th>\n",
       "      <th>S2_Light</th>\n",
       "      <th>S3_Light</th>\n",
       "      <th>S4_Light</th>\n",
       "      <th>S1_Sound</th>\n",
       "      <th>S2_Sound</th>\n",
       "      <th>S3_Sound</th>\n",
       "      <th>S4_Sound</th>\n",
       "      <th>S5_CO2</th>\n",
       "      <th>S5_CO2_Slope</th>\n",
       "      <th>S6_PIR</th>\n",
       "      <th>S7_PIR</th>\n",
       "      <th>Room_Occupancy_Count</th>\n",
       "    </tr>\n",
       "  </thead>\n",
       "  <tbody>\n",
       "    <tr>\n",
       "      <th>0</th>\n",
       "      <td>2017-12-22 10:49:41</td>\n",
       "      <td>-1.463033</td>\n",
       "      <td>-1.357775</td>\n",
       "      <td>-1.162334</td>\n",
       "      <td>-1.049684</td>\n",
       "      <td>1.873305</td>\n",
       "      <td>0.118627</td>\n",
       "      <td>0.321099</td>\n",
       "      <td>1.366226</td>\n",
       "      <td>-0.278432</td>\n",
       "      <td>0.262426</td>\n",
       "      <td>-0.237223</td>\n",
       "      <td>-0.363288</td>\n",
       "      <td>-0.354382</td>\n",
       "      <td>0.664469</td>\n",
       "      <td>-0.314749</td>\n",
       "      <td>-0.294029</td>\n",
       "      <td>1</td>\n",
       "    </tr>\n",
       "    <tr>\n",
       "      <th>1</th>\n",
       "      <td>2017-12-22 10:50:12</td>\n",
       "      <td>-1.463033</td>\n",
       "      <td>-1.357775</td>\n",
       "      <td>-1.162334</td>\n",
       "      <td>-0.881342</td>\n",
       "      <td>1.873305</td>\n",
       "      <td>0.103769</td>\n",
       "      <td>0.321099</td>\n",
       "      <td>1.366226</td>\n",
       "      <td>2.405552</td>\n",
       "      <td>-0.262923</td>\n",
       "      <td>-0.237223</td>\n",
       "      <td>-0.363288</td>\n",
       "      <td>-0.354382</td>\n",
       "      <td>0.558817</td>\n",
       "      <td>-0.314749</td>\n",
       "      <td>-0.294029</td>\n",
       "      <td>1</td>\n",
       "    </tr>\n",
       "    <tr>\n",
       "      <th>2</th>\n",
       "      <td>2017-12-22 10:50:42</td>\n",
       "      <td>-1.292255</td>\n",
       "      <td>-1.357775</td>\n",
       "      <td>-1.302764</td>\n",
       "      <td>-0.881342</td>\n",
       "      <td>1.873305</td>\n",
       "      <td>0.118627</td>\n",
       "      <td>0.321099</td>\n",
       "      <td>1.366226</td>\n",
       "      <td>0.826738</td>\n",
       "      <td>-0.037773</td>\n",
       "      <td>-0.188869</td>\n",
       "      <td>-0.363288</td>\n",
       "      <td>-0.354382</td>\n",
       "      <td>0.449864</td>\n",
       "      <td>-0.314749</td>\n",
       "      <td>-0.294029</td>\n",
       "      <td>1</td>\n",
       "    </tr>\n",
       "    <tr>\n",
       "      <th>3</th>\n",
       "      <td>2017-12-22 10:51:13</td>\n",
       "      <td>-1.292255</td>\n",
       "      <td>-1.357775</td>\n",
       "      <td>-1.162334</td>\n",
       "      <td>-0.881342</td>\n",
       "      <td>1.873305</td>\n",
       "      <td>0.118627</td>\n",
       "      <td>0.321099</td>\n",
       "      <td>1.366226</td>\n",
       "      <td>0.763585</td>\n",
       "      <td>-0.075298</td>\n",
       "      <td>-0.140515</td>\n",
       "      <td>-0.114690</td>\n",
       "      <td>-0.354382</td>\n",
       "      <td>0.337609</td>\n",
       "      <td>-0.314749</td>\n",
       "      <td>-0.294029</td>\n",
       "      <td>1</td>\n",
       "    </tr>\n",
       "    <tr>\n",
       "      <th>4</th>\n",
       "      <td>2017-12-22 10:51:44</td>\n",
       "      <td>-1.292255</td>\n",
       "      <td>-1.357775</td>\n",
       "      <td>-1.162334</td>\n",
       "      <td>-0.881342</td>\n",
       "      <td>1.873305</td>\n",
       "      <td>0.118627</td>\n",
       "      <td>0.338223</td>\n",
       "      <td>1.366226</td>\n",
       "      <td>0.037331</td>\n",
       "      <td>-0.225398</td>\n",
       "      <td>-0.237223</td>\n",
       "      <td>-0.363288</td>\n",
       "      <td>-0.354382</td>\n",
       "      <td>0.222053</td>\n",
       "      <td>-0.314749</td>\n",
       "      <td>-0.294029</td>\n",
       "      <td>1</td>\n",
       "    </tr>\n",
       "  </tbody>\n",
       "</table>\n",
       "</div>"
      ],
      "text/plain": [
       "             datetime   S1_Temp   S2_Temp   S3_Temp   S4_Temp  S1_Light  \\\n",
       "0 2017-12-22 10:49:41 -1.463033 -1.357775 -1.162334 -1.049684  1.873305   \n",
       "1 2017-12-22 10:50:12 -1.463033 -1.357775 -1.162334 -0.881342  1.873305   \n",
       "2 2017-12-22 10:50:42 -1.292255 -1.357775 -1.302764 -0.881342  1.873305   \n",
       "3 2017-12-22 10:51:13 -1.292255 -1.357775 -1.162334 -0.881342  1.873305   \n",
       "4 2017-12-22 10:51:44 -1.292255 -1.357775 -1.162334 -0.881342  1.873305   \n",
       "\n",
       "   S2_Light  S3_Light  S4_Light  S1_Sound  S2_Sound  S3_Sound  S4_Sound  \\\n",
       "0  0.118627  0.321099  1.366226 -0.278432  0.262426 -0.237223 -0.363288   \n",
       "1  0.103769  0.321099  1.366226  2.405552 -0.262923 -0.237223 -0.363288   \n",
       "2  0.118627  0.321099  1.366226  0.826738 -0.037773 -0.188869 -0.363288   \n",
       "3  0.118627  0.321099  1.366226  0.763585 -0.075298 -0.140515 -0.114690   \n",
       "4  0.118627  0.338223  1.366226  0.037331 -0.225398 -0.237223 -0.363288   \n",
       "\n",
       "     S5_CO2  S5_CO2_Slope    S6_PIR    S7_PIR  Room_Occupancy_Count  \n",
       "0 -0.354382      0.664469 -0.314749 -0.294029                     1  \n",
       "1 -0.354382      0.558817 -0.314749 -0.294029                     1  \n",
       "2 -0.354382      0.449864 -0.314749 -0.294029                     1  \n",
       "3 -0.354382      0.337609 -0.314749 -0.294029                     1  \n",
       "4 -0.354382      0.222053 -0.314749 -0.294029                     1  "
      ]
     },
     "execution_count": 11,
     "metadata": {},
     "output_type": "execute_result"
    }
   ],
   "source": [
    "# We saw above that we have very skewed data and individual features have very different ranges. For these reasons, we will first need to scale our data using a Standard Scaler from the sklearn library.\n",
    "scaler = StandardScaler()\n",
    "data[data.columns[1:-1]] = scaler.fit_transform(data[data.columns[1:-1]])\n",
    "data.head()"
   ]
  },
  {
   "cell_type": "code",
   "execution_count": 12,
   "metadata": {},
   "outputs": [
    {
     "data": {
      "text/html": [
       "<div>\n",
       "<style scoped>\n",
       "    .dataframe tbody tr th:only-of-type {\n",
       "        vertical-align: middle;\n",
       "    }\n",
       "\n",
       "    .dataframe tbody tr th {\n",
       "        vertical-align: top;\n",
       "    }\n",
       "\n",
       "    .dataframe thead th {\n",
       "        text-align: right;\n",
       "    }\n",
       "</style>\n",
       "<table border=\"1\" class=\"dataframe\">\n",
       "  <thead>\n",
       "    <tr style=\"text-align: right;\">\n",
       "      <th></th>\n",
       "      <th>datetime</th>\n",
       "      <th>S1_Temp</th>\n",
       "      <th>S2_Temp</th>\n",
       "      <th>S3_Temp</th>\n",
       "      <th>S4_Temp</th>\n",
       "      <th>S1_Light</th>\n",
       "      <th>S2_Light</th>\n",
       "      <th>S3_Light</th>\n",
       "      <th>S4_Light</th>\n",
       "      <th>S1_Sound</th>\n",
       "      <th>S2_Sound</th>\n",
       "      <th>S3_Sound</th>\n",
       "      <th>S4_Sound</th>\n",
       "      <th>S5_CO2</th>\n",
       "      <th>S5_CO2_Slope</th>\n",
       "      <th>S6_PIR</th>\n",
       "      <th>S7_PIR</th>\n",
       "      <th>Room_Occupancy_Count</th>\n",
       "    </tr>\n",
       "  </thead>\n",
       "  <tbody>\n",
       "    <tr>\n",
       "      <th>mean</th>\n",
       "      <td>2017-12-27 20:27:23.034554112</td>\n",
       "      <td>-3.434512e-15</td>\n",
       "      <td>5.533380e-15</td>\n",
       "      <td>4.781379e-15</td>\n",
       "      <td>-6.779233e-15</td>\n",
       "      <td>8.979116e-17</td>\n",
       "      <td>-1.122390e-17</td>\n",
       "      <td>-4.489558e-17</td>\n",
       "      <td>-1.010151e-16</td>\n",
       "      <td>-2.244779e-17</td>\n",
       "      <td>-5.611948e-17</td>\n",
       "      <td>-8.417922e-17</td>\n",
       "      <td>-1.094330e-16</td>\n",
       "      <td>-8.979116e-17</td>\n",
       "      <td>-3.086571e-17</td>\n",
       "      <td>-7.856727e-17</td>\n",
       "      <td>0.000000</td>\n",
       "      <td>0.398559</td>\n",
       "    </tr>\n",
       "    <tr>\n",
       "      <th>std</th>\n",
       "      <td>7 days 05:02:05.971942454</td>\n",
       "      <td>1.000049e+00</td>\n",
       "      <td>1.000049e+00</td>\n",
       "      <td>1.000049e+00</td>\n",
       "      <td>1.000049e+00</td>\n",
       "      <td>1.000049e+00</td>\n",
       "      <td>1.000049e+00</td>\n",
       "      <td>1.000049e+00</td>\n",
       "      <td>1.000049e+00</td>\n",
       "      <td>1.000049e+00</td>\n",
       "      <td>1.000049e+00</td>\n",
       "      <td>1.000049e+00</td>\n",
       "      <td>1.000049e+00</td>\n",
       "      <td>1.000049e+00</td>\n",
       "      <td>1.000049e+00</td>\n",
       "      <td>1.000049e+00</td>\n",
       "      <td>1.000049</td>\n",
       "      <td>0.893633</td>\n",
       "    </tr>\n",
       "    <tr>\n",
       "      <th>min</th>\n",
       "      <td>2017-12-22 10:49:41</td>\n",
       "      <td>-1.463033e+00</td>\n",
       "      <td>-1.357775e+00</td>\n",
       "      <td>-1.443193e+00</td>\n",
       "      <td>-2.284195e+00</td>\n",
       "      <td>-4.988372e-01</td>\n",
       "      <td>-3.865670e-01</td>\n",
       "      <td>-5.864683e-01</td>\n",
       "      <td>-6.744599e-01</td>\n",
       "      <td>-3.415843e-01</td>\n",
       "      <td>-3.004478e-01</td>\n",
       "      <td>-2.855770e-01</td>\n",
       "      <td>-4.461540e-01</td>\n",
       "      <td>-5.794322e-01</td>\n",
       "      <td>-5.400593e+00</td>\n",
       "      <td>-3.147489e-01</td>\n",
       "      <td>-0.294029</td>\n",
       "      <td>0.000000</td>\n",
       "    </tr>\n",
       "    <tr>\n",
       "      <th>max</th>\n",
       "      <td>2018-01-11 09:00:09</td>\n",
       "      <td>2.635640e+00</td>\n",
       "      <td>5.891117e+00</td>\n",
       "      <td>2.652660e+00</td>\n",
       "      <td>2.261049e+00</td>\n",
       "      <td>2.735902e+00</td>\n",
       "      <td>3.446966e+00</td>\n",
       "      <td>4.208228e+00</td>\n",
       "      <td>3.100809e+00</td>\n",
       "      <td>1.172055e+01</td>\n",
       "      <td>1.245804e+01</td>\n",
       "      <td>8.490675e+00</td>\n",
       "      <td>2.731394e+01</td>\n",
       "      <td>4.046607e+00</td>\n",
       "      <td>7.713410e+00</td>\n",
       "      <td>3.177136e+00</td>\n",
       "      <td>3.401029</td>\n",
       "      <td>3.000000</td>\n",
       "    </tr>\n",
       "  </tbody>\n",
       "</table>\n",
       "</div>"
      ],
      "text/plain": [
       "                           datetime       S1_Temp       S2_Temp       S3_Temp  \\\n",
       "mean  2017-12-27 20:27:23.034554112 -3.434512e-15  5.533380e-15  4.781379e-15   \n",
       "std       7 days 05:02:05.971942454  1.000049e+00  1.000049e+00  1.000049e+00   \n",
       "min             2017-12-22 10:49:41 -1.463033e+00 -1.357775e+00 -1.443193e+00   \n",
       "max             2018-01-11 09:00:09  2.635640e+00  5.891117e+00  2.652660e+00   \n",
       "\n",
       "           S4_Temp      S1_Light      S2_Light      S3_Light      S4_Light  \\\n",
       "mean -6.779233e-15  8.979116e-17 -1.122390e-17 -4.489558e-17 -1.010151e-16   \n",
       "std   1.000049e+00  1.000049e+00  1.000049e+00  1.000049e+00  1.000049e+00   \n",
       "min  -2.284195e+00 -4.988372e-01 -3.865670e-01 -5.864683e-01 -6.744599e-01   \n",
       "max   2.261049e+00  2.735902e+00  3.446966e+00  4.208228e+00  3.100809e+00   \n",
       "\n",
       "          S1_Sound      S2_Sound      S3_Sound      S4_Sound        S5_CO2  \\\n",
       "mean -2.244779e-17 -5.611948e-17 -8.417922e-17 -1.094330e-16 -8.979116e-17   \n",
       "std   1.000049e+00  1.000049e+00  1.000049e+00  1.000049e+00  1.000049e+00   \n",
       "min  -3.415843e-01 -3.004478e-01 -2.855770e-01 -4.461540e-01 -5.794322e-01   \n",
       "max   1.172055e+01  1.245804e+01  8.490675e+00  2.731394e+01  4.046607e+00   \n",
       "\n",
       "      S5_CO2_Slope        S6_PIR    S7_PIR  Room_Occupancy_Count  \n",
       "mean -3.086571e-17 -7.856727e-17  0.000000              0.398559  \n",
       "std   1.000049e+00  1.000049e+00  1.000049              0.893633  \n",
       "min  -5.400593e+00 -3.147489e-01 -0.294029              0.000000  \n",
       "max   7.713410e+00  3.177136e+00  3.401029              3.000000  "
      ]
     },
     "execution_count": 12,
     "metadata": {},
     "output_type": "execute_result"
    }
   ],
   "source": [
    "data.apply([np.mean, np.std, min, max])"
   ]
  },
  {
   "cell_type": "code",
   "execution_count": 13,
   "metadata": {},
   "outputs": [],
   "source": [
    "# the datetime variable is not relevant to our analysis here, so we will drop it\n",
    "data = data.iloc[:, 1:]"
   ]
  },
  {
   "cell_type": "markdown",
   "metadata": {},
   "source": [
    "# Data Partitioning"
   ]
  },
  {
   "cell_type": "markdown",
   "metadata": {},
   "source": [
    "We want to use a 70-20-10 split for our training, validation, and test data, respectively."
   ]
  },
  {
   "cell_type": "code",
   "execution_count": 14,
   "metadata": {},
   "outputs": [],
   "source": [
    "Xtrain, Xtest, ytrain, ytest = train_test_split(\n",
    "    data.iloc[:, :-1], data.iloc[:, -1], train_size=0.7, random_state=42\n",
    ")\n",
    "Xvalid, Xtest, yvalid, ytest = train_test_split(\n",
    "    Xtest, ytest, train_size=(2 / 3), random_state=42\n",
    ")"
   ]
  },
  {
   "cell_type": "code",
   "execution_count": 15,
   "metadata": {},
   "outputs": [
    {
     "data": {
      "text/plain": [
       "(7090, 16)"
      ]
     },
     "execution_count": 15,
     "metadata": {},
     "output_type": "execute_result"
    }
   ],
   "source": [
    "Xtrain.shape"
   ]
  },
  {
   "cell_type": "code",
   "execution_count": 16,
   "metadata": {},
   "outputs": [
    {
     "data": {
      "text/plain": [
       "(7090,)"
      ]
     },
     "execution_count": 16,
     "metadata": {},
     "output_type": "execute_result"
    }
   ],
   "source": [
    "ytrain.shape"
   ]
  },
  {
   "cell_type": "code",
   "execution_count": 17,
   "metadata": {},
   "outputs": [
    {
     "data": {
      "text/plain": [
       "(2026, 16)"
      ]
     },
     "execution_count": 17,
     "metadata": {},
     "output_type": "execute_result"
    }
   ],
   "source": [
    "Xvalid.shape"
   ]
  },
  {
   "cell_type": "code",
   "execution_count": 18,
   "metadata": {},
   "outputs": [
    {
     "data": {
      "text/plain": [
       "(2026,)"
      ]
     },
     "execution_count": 18,
     "metadata": {},
     "output_type": "execute_result"
    }
   ],
   "source": [
    "yvalid.shape"
   ]
  },
  {
   "cell_type": "code",
   "execution_count": 19,
   "metadata": {},
   "outputs": [
    {
     "data": {
      "text/plain": [
       "(1013, 16)"
      ]
     },
     "execution_count": 19,
     "metadata": {},
     "output_type": "execute_result"
    }
   ],
   "source": [
    "Xtest.shape"
   ]
  },
  {
   "cell_type": "code",
   "execution_count": 20,
   "metadata": {},
   "outputs": [
    {
     "data": {
      "text/plain": [
       "(1013,)"
      ]
     },
     "execution_count": 20,
     "metadata": {},
     "output_type": "execute_result"
    }
   ],
   "source": [
    "ytest.shape"
   ]
  },
  {
   "cell_type": "markdown",
   "metadata": {},
   "source": [
    "# Model Construction"
   ]
  },
  {
   "cell_type": "markdown",
   "metadata": {},
   "source": [
    "## Linear Regression (without PCA)"
   ]
  },
  {
   "cell_type": "code",
   "execution_count": 21,
   "metadata": {},
   "outputs": [
    {
     "data": {
      "text/plain": [
       "0.8961623013847336"
      ]
     },
     "execution_count": 21,
     "metadata": {},
     "output_type": "execute_result"
    }
   ],
   "source": [
    "ols = LinearRegression()\n",
    "ols = ols.fit(Xtrain, ytrain)\n",
    "ols.score(Xtrain, ytrain)"
   ]
  },
  {
   "cell_type": "markdown",
   "metadata": {},
   "source": [
    "## Linear Regression (with PCA)"
   ]
  },
  {
   "cell_type": "code",
   "execution_count": 22,
   "metadata": {},
   "outputs": [
    {
     "data": {
      "text/plain": [
       "{'memory': None,\n",
       " 'steps': [('pca', PCA()), ('ols', LinearRegression())],\n",
       " 'verbose': False,\n",
       " 'pca': PCA(),\n",
       " 'ols': LinearRegression(),\n",
       " 'pca__copy': True,\n",
       " 'pca__iterated_power': 'auto',\n",
       " 'pca__n_components': None,\n",
       " 'pca__random_state': None,\n",
       " 'pca__svd_solver': 'auto',\n",
       " 'pca__tol': 0.0,\n",
       " 'pca__whiten': False,\n",
       " 'ols__copy_X': True,\n",
       " 'ols__fit_intercept': True,\n",
       " 'ols__n_jobs': None,\n",
       " 'ols__normalize': 'deprecated',\n",
       " 'ols__positive': False}"
      ]
     },
     "execution_count": 22,
     "metadata": {},
     "output_type": "execute_result"
    }
   ],
   "source": [
    "pipe = Pipeline([(\"pca\", PCA()), (\"ols\", ols)])\n",
    "pipe.get_params()"
   ]
  },
  {
   "cell_type": "code",
   "execution_count": 49,
   "metadata": {},
   "outputs": [
    {
     "data": {
      "text/plain": [
       "{'pca__n_components': 9}"
      ]
     },
     "execution_count": 49,
     "metadata": {},
     "output_type": "execute_result"
    }
   ],
   "source": [
    "params = {\"pca__n_components\": range(2, 10)}\n",
    "grid = GridSearchCV(estimator=pipe, param_grid=params, cv=8)\n",
    "grid = grid.fit(Xtrain, ytrain)\n",
    "grid.best_params_"
   ]
  },
  {
   "cell_type": "code",
   "execution_count": 50,
   "metadata": {},
   "outputs": [
    {
     "data": {
      "text/plain": [
       "0.877854047906335"
      ]
     },
     "execution_count": 50,
     "metadata": {},
     "output_type": "execute_result"
    }
   ],
   "source": [
    "grid.score(Xtrain, ytrain)"
   ]
  },
  {
   "cell_type": "markdown",
   "metadata": {},
   "source": [
    "## Decision Tree (without PCA)"
   ]
  },
  {
   "cell_type": "code",
   "execution_count": 51,
   "metadata": {},
   "outputs": [
    {
     "data": {
      "text/plain": [
       "1.0"
      ]
     },
     "execution_count": 51,
     "metadata": {},
     "output_type": "execute_result"
    }
   ],
   "source": [
    "tree = DecisionTreeClassifier()\n",
    "tree = tree.fit(Xtrain, ytrain)\n",
    "tree.score(Xtrain, ytrain)"
   ]
  },
  {
   "cell_type": "markdown",
   "metadata": {},
   "source": [
    "## Decision Tree (with PCA)"
   ]
  },
  {
   "cell_type": "code",
   "execution_count": 52,
   "metadata": {},
   "outputs": [
    {
     "data": {
      "text/plain": [
       "{'memory': None,\n",
       " 'steps': [('pca', PCA()), ('tree', DecisionTreeClassifier())],\n",
       " 'verbose': False,\n",
       " 'pca': PCA(),\n",
       " 'tree': DecisionTreeClassifier(),\n",
       " 'pca__copy': True,\n",
       " 'pca__iterated_power': 'auto',\n",
       " 'pca__n_components': None,\n",
       " 'pca__random_state': None,\n",
       " 'pca__svd_solver': 'auto',\n",
       " 'pca__tol': 0.0,\n",
       " 'pca__whiten': False,\n",
       " 'tree__ccp_alpha': 0.0,\n",
       " 'tree__class_weight': None,\n",
       " 'tree__criterion': 'gini',\n",
       " 'tree__max_depth': None,\n",
       " 'tree__max_features': None,\n",
       " 'tree__max_leaf_nodes': None,\n",
       " 'tree__min_impurity_decrease': 0.0,\n",
       " 'tree__min_samples_leaf': 1,\n",
       " 'tree__min_samples_split': 2,\n",
       " 'tree__min_weight_fraction_leaf': 0.0,\n",
       " 'tree__random_state': None,\n",
       " 'tree__splitter': 'best'}"
      ]
     },
     "execution_count": 52,
     "metadata": {},
     "output_type": "execute_result"
    }
   ],
   "source": [
    "pipe2 = Pipeline([(\"pca\", PCA()), (\"tree\", tree)])\n",
    "pipe2.get_params()"
   ]
  },
  {
   "cell_type": "code",
   "execution_count": 53,
   "metadata": {},
   "outputs": [
    {
     "data": {
      "text/plain": [
       "{'pca__n_components': 9}"
      ]
     },
     "execution_count": 53,
     "metadata": {},
     "output_type": "execute_result"
    }
   ],
   "source": [
    "grid2 = GridSearchCV(estimator=pipe2, param_grid=params, cv=8)\n",
    "grid2 = grid2.fit(Xtrain, ytrain)\n",
    "grid2.best_params_"
   ]
  },
  {
   "cell_type": "code",
   "execution_count": 54,
   "metadata": {},
   "outputs": [
    {
     "data": {
      "text/plain": [
       "1.0"
      ]
     },
     "execution_count": 54,
     "metadata": {},
     "output_type": "execute_result"
    }
   ],
   "source": [
    "grid2.score(Xtrain, ytrain)"
   ]
  },
  {
   "cell_type": "markdown",
   "metadata": {},
   "source": [
    "# Model Selection"
   ]
  },
  {
   "cell_type": "code",
   "execution_count": 55,
   "metadata": {},
   "outputs": [
    {
     "data": {
      "text/plain": [
       "0.8766230997717136"
      ]
     },
     "execution_count": 55,
     "metadata": {},
     "output_type": "execute_result"
    }
   ],
   "source": [
    "# normal linear regression on validation set\n",
    "ols.score(Xvalid, yvalid)"
   ]
  },
  {
   "cell_type": "code",
   "execution_count": 56,
   "metadata": {},
   "outputs": [
    {
     "data": {
      "text/plain": [
       "0.855279525338601"
      ]
     },
     "execution_count": 56,
     "metadata": {},
     "output_type": "execute_result"
    }
   ],
   "source": [
    "# linear regression with PCA on validation set\n",
    "grid.score(Xvalid, yvalid)"
   ]
  },
  {
   "cell_type": "code",
   "execution_count": 57,
   "metadata": {},
   "outputs": [
    {
     "data": {
      "text/plain": [
       "0.9970384995064165"
      ]
     },
     "execution_count": 57,
     "metadata": {},
     "output_type": "execute_result"
    }
   ],
   "source": [
    "# normal decision tree on validation set\n",
    "tree.score(Xvalid, yvalid)"
   ]
  },
  {
   "cell_type": "code",
   "execution_count": 58,
   "metadata": {},
   "outputs": [
    {
     "data": {
      "text/plain": [
       "0.9679170779861797"
      ]
     },
     "execution_count": 58,
     "metadata": {},
     "output_type": "execute_result"
    }
   ],
   "source": [
    "# decision tree with PCA on validation set\n",
    "grid2.score(Xvalid, yvalid)"
   ]
  },
  {
   "cell_type": "markdown",
   "metadata": {},
   "source": [
    "Evaluate your final (selected) model using the test dataset to understand how well your\n",
    "model generalizes to new examples or input data"
   ]
  },
  {
   "cell_type": "code",
   "execution_count": null,
   "metadata": {},
   "outputs": [],
   "source": []
  }
 ],
 "metadata": {
  "interpreter": {
   "hash": "c59cb3813c36ef51462c13eeea34aadfc6b81c26dfdaee68f8008d13139eae9a"
  },
  "kernelspec": {
   "display_name": "Python 3.8.12 ('tools2_env': venv)",
   "language": "python",
   "name": "python3"
  },
  "language_info": {
   "codemirror_mode": {
    "name": "ipython",
    "version": 3
   },
   "file_extension": ".py",
   "mimetype": "text/x-python",
   "name": "python",
   "nbconvert_exporter": "python",
   "pygments_lexer": "ipython3",
   "version": "3.8.12"
  },
  "orig_nbformat": 4
 },
 "nbformat": 4,
 "nbformat_minor": 2
}
